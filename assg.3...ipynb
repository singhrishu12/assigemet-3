{
 "cells": [
  {
   "cell_type": "code",
   "execution_count": 1,
   "id": "fef20fd6-f012-4134-b591-164d147262c9",
   "metadata": {},
   "outputs": [
    {
     "name": "stdin",
     "output_type": "stream",
     "text": [
      "Enter your Value 5\n"
     ]
    },
    {
     "name": "stdout",
     "output_type": "stream",
     "text": [
      "Positive number\n"
     ]
    }
   ],
   "source": [
    "# Q1.\n",
    "\n",
    "# if, else, and elif: These keywords are used for conditional statements. They allow you to control the flow of your program based on certain conditions\n",
    "\n",
    "x = float(input('Enter your Value'))\n",
    "\n",
    "if x > 0:\n",
    "    print(\"Positive number\")\n",
    "elif x == 0:\n",
    "    print(\"Zero\")\n",
    "else:\n",
    "    print(\"Negative number\")"
   ]
  },
  {
   "cell_type": "code",
   "execution_count": 3,
   "id": "8af3757a-038f-4daf-887a-2b8cbaa393a2",
   "metadata": {},
   "outputs": [
    {
     "name": "stdout",
     "output_type": "stream",
     "text": [
      "cauliflower\n",
      "ladyfringer\n",
      "pea\n"
     ]
    }
   ],
   "source": [
    "# for: Used for looping through a sequence (such as a list, tuple, or string) and executing a block of code for each element in the sequence.\n",
    "\n",
    "vegetable = [\"cauliflower\", \"ladyfringer\", \"pea\"]\n",
    "\n",
    "for i in vegetable:\n",
    "    print(i)"
   ]
  },
  {
   "cell_type": "code",
   "execution_count": 4,
   "id": "751787b6-1f4c-420c-9f29-717211c7419c",
   "metadata": {},
   "outputs": [
    {
     "name": "stdout",
     "output_type": "stream",
     "text": [
      "0\n",
      "1\n",
      "2\n",
      "3\n",
      "4\n",
      "5\n",
      "6\n",
      "7\n",
      "8\n",
      "9\n"
     ]
    }
   ],
   "source": [
    "# while: Used for creating a loop that continues executing a block of code as long as a specified condition is true.\n",
    "\n",
    "count = 0\n",
    "while count < 10:\n",
    "    print(count)\n",
    "    count = count + 1"
   ]
  },
  {
   "cell_type": "code",
   "execution_count": 7,
   "id": "56b136bc-c9c3-41f3-a24a-9c3ee1b7a0e0",
   "metadata": {},
   "outputs": [
    {
     "name": "stdout",
     "output_type": "stream",
     "text": [
      "Hello, rishu!\n"
     ]
    }
   ],
   "source": [
    "# def: Used for defining a function in Python. Functions are blocks of reusable code that can be called with a specific set of inputs.\n",
    "\n",
    "def Greet(name):\n",
    "    print(\"Hello, \" + name + \"!\")\n",
    "Greet(\"rishu\")\n"
   ]
  },
  {
   "cell_type": "code",
   "execution_count": 8,
   "id": "987559d4-8721-4b1a-b612-f4c74b0cb470",
   "metadata": {},
   "outputs": [
    {
     "name": "stdout",
     "output_type": "stream",
     "text": [
      "9\n"
     ]
    }
   ],
   "source": [
    "# return: This keyword is used to exit a function and return a value. It allows a function to produce a result that can be used elsewhere in the code.\n",
    "\n",
    "def add_numbers(a, b):\n",
    "    return a + b\n",
    "\n",
    "result = add_numbers(4, 5)\n",
    "print(result)"
   ]
  },
  {
   "cell_type": "code",
   "execution_count": 9,
   "id": "1dd1dd6e-618d-4116-843c-2a9431bc7fb4",
   "metadata": {},
   "outputs": [
    {
     "name": "stdout",
     "output_type": "stream",
     "text": [
      "25\n",
      "rishu\n",
      "0\n",
      "100.5\n",
      "True\n"
     ]
    }
   ],
   "source": [
    "# Rules for Defining Identifiers in Python\n",
    "# Identifiers in Python are user-defined names given to variables, functions, classes, modules, and other elements within your code. Choosing clear and meaningful names is essential for both readability and avoiding errors. Here's the breakdown of naming rules:\n",
    "\n",
    "# 1. Allowed Characters:\n",
    "\n",
    "# Letters (uppercase and lowercase): a, B, z\n",
    "# Digits: 0, 1, 9\n",
    "# Underscore: _\n",
    "# 2. First Character:\n",
    "\n",
    "# Must be a letter or underscore. Identifiers cannot begin with a digit.\n",
    "# 3. Reserved Words (Keywords):\n",
    "\n",
    "# Cannot be used as identifiers. These have special meanings in Python.\n",
    "# Example: if, else, for, while, def, class\n",
    "# 4. Case-Sensitivity:\n",
    "\n",
    "# Python is case-sensitive. name, Name, and NAME are considered different identifiers.\n",
    "# 5. Special Symbols:\n",
    "\n",
    "# Cannot be used except for the underscore _.\n",
    "# 6. Length:\n",
    "\n",
    "# No limit on the length of an identifier, but using excessively long names can hinder readability.\n",
    "\n",
    "\n",
    "\n",
    "variable_age = 25\n",
    "_name = \"rishu\"\n",
    "counter123 = 0\n",
    "total_amount = 100.5\n",
    "is_valid = True\n",
    "\n",
    "print(variable_age)\n",
    "print(_name)\n",
    "print(counter123)\n",
    "print(total_amount)\n",
    "print(is_valid)"
   ]
  },
  {
   "cell_type": "code",
   "execution_count": 10,
   "id": "8a8683dd-e8f6-4872-b8fa-667bb5c2a7e5",
   "metadata": {},
   "outputs": [
    {
     "name": "stdin",
     "output_type": "stream",
     "text": [
      "Enter the length:  45\n",
      "Enter the width:  65\n"
     ]
    },
    {
     "name": "stdout",
     "output_type": "stream",
     "text": [
      "The area of the rectangle is: 2925.0\n"
     ]
    }
   ],
   "source": [
    "#Q3.\n",
    "\n",
    "# # Comments in Python are annotations within the code that are not executed by the interpreter. \n",
    "# They are added to provide explanations, clarifications, or documentation for the code. \n",
    "# Comments are useful for improving code readability, making it easier for others to understand the purpose and functionality of specific code segments.\n",
    "\n",
    "# In Python, there are two types of comments:\n",
    "\n",
    "# Single-line comments: These comments begin with the '#' symbol and extend to the end of the line.Single-line comments: These comments begin with the '#' symbol and extend to the end of the line.\n",
    "\n",
    "\"\"\"Multi-line comments (docstrings): While Python does not have a specific syntax for multi-line comments, \n",
    "you can use triple-quotes (''' or \" \" \") to create multi-line strings, \n",
    "which are often used as documentation strings or docstrings.\"\"\"\n",
    "\n",
    "# This is a simple program that calculates the area of a rectangle\n",
    "\n",
    "# Get the length and width from the user\n",
    "length = float(input(\"Enter the length: \"))\n",
    "width = float(input(\"Enter the width: \"))\n",
    "\n",
    "# Calculate the area\n",
    "area = length * width\n",
    "\n",
    "# Print the area\n",
    "print(\"The area of the rectangle is:\", area)"
   ]
  },
  {
   "cell_type": "code",
   "execution_count": 11,
   "id": "da1cfe72-a10c-4778-9cd9-ada23428c944",
   "metadata": {},
   "outputs": [
    {
     "name": "stdin",
     "output_type": "stream",
     "text": [
      "Enter Your Age:  54\n"
     ]
    },
    {
     "name": "stdout",
     "output_type": "stream",
     "text": [
      "Eligible to vote\n"
     ]
    }
   ],
   "source": [
    "#Q4.\n",
    "# In Python, proper indentation is not just a matter of style; it is a fundamental aspect of the language's syntax. Python uses indentation to define blocks of code, such as those within loops, conditionals, functions, and classes. Indentation is a way of visually representing the structure and hierarchy of the code.\n",
    "\n",
    "# The key reasons why proper indentation is important in Python are:\n",
    "\n",
    "# Readability: Indentation makes the code more readable. It visually indicates the structure of the code and helps developers understand the relationships between different blocks of code. Properly indented code is easier to follow and maintain.\n",
    "\n",
    "# Code Blocks: Python relies on indentation to define code blocks. Statements with the same level of indentation are considered part of the same block. This eliminates the need for explicit braces or keywords to denote block boundaries, as seen in some other programming languages.\n",
    "\n",
    "# Consistency: Consistent indentation is crucial for maintaining a clean and organized codebase. It helps avoid confusion and ensures that the code is structured in a predictable way.\n",
    "\n",
    "# Error Prevention: Incorrect indentation can lead to syntax errors or, more importantly, can change the logic of the code. For example, changing the indentation of a line might cause it to be executed in a different context. Proper indentation helps prevent unintentional errors.\n",
    "\n",
    "\n",
    "# Correct indentation:\n",
    "\n",
    "age= int(input('Enter Your Age: '))\n",
    "if age >= 18:\n",
    "    print(\"Eligible to vote\")\n",
    "else:\n",
    "    print(\"Not eligible to vote\")\n",
    "    "
   ]
  },
  {
   "cell_type": "code",
   "execution_count": 12,
   "id": "e5e3eddb-6cef-4dd4-b766-522a88b38692",
   "metadata": {},
   "outputs": [
    {
     "ename": "IndentationError",
     "evalue": "expected an indented block after 'for' statement on line 4 (2424925579.py, line 5)",
     "output_type": "error",
     "traceback": [
      "\u001b[0;36m  Cell \u001b[0;32mIn[12], line 5\u001b[0;36m\u001b[0m\n\u001b[0;31m    print(i)         # Incorrect indentation\u001b[0m\n\u001b[0m    ^\u001b[0m\n\u001b[0;31mIndentationError\u001b[0m\u001b[0;31m:\u001b[0m expected an indented block after 'for' statement on line 4\n"
     ]
    }
   ],
   "source": [
    "\n",
    "\"\"\"In Python, indentation is not just a matter of style; it is a fundamental part of the language's syntax and semantics. \n",
    "Incorrect indentation can lead to various issues, and in most cases, it results in a syntax error.\"\"\"\n",
    "\n",
    "for i in range(1, 6):\n",
    "print(i)         # Incorrect indentation"
   ]
  },
  {
   "cell_type": "code",
   "execution_count": 14,
   "id": "47a85da4-d2e0-415d-b86e-f7de75615333",
   "metadata": {},
   "outputs": [
    {
     "name": "stdout",
     "output_type": "stream",
     "text": [
      "20\n"
     ]
    }
   ],
   "source": [
    "#Q6.\n",
    "\n",
    "#Expression:\n",
    "\n",
    "# An expression is a piece of code that produces a value.\n",
    "# It can consist of variables, constants, operators, and function calls.\n",
    "# Expressions are evaluated to produce a result.\n",
    "# Examples of expressions include arithmetic expressions, function calls, and any combination of values and operators that results in a value\n",
    "\n",
    "# Examples of expressions\n",
    "x = 4\n",
    "y = 16\n",
    "sum_result = x + y  # Arithmetic expression\n",
    "length = len(\"Hello\")  # Function call\n",
    "print(sum_result)\n"
   ]
  },
  {
   "cell_type": "code",
   "execution_count": 15,
   "id": "4ddd590e-b5ce-4ded-9e92-f0e59d85c6f5",
   "metadata": {},
   "outputs": [
    {
     "name": "stdout",
     "output_type": "stream",
     "text": [
      "Positive number\n",
      "0\n",
      "1\n",
      "2\n",
      "3\n",
      "4\n"
     ]
    }
   ],
   "source": [
    "# Statement:\n",
    "\n",
    "# A statement is a complete line of code that performs an action.\n",
    "# Statements are often composed of expressions but can also include other elements like keywords or assignments.\n",
    "# Statements are executed by the Python interpreter to perform specific tasks.\n",
    "# Examples of statements include assignment statements, conditional statements (if, else), loop statements (for, while), and function definitions.\n",
    "\n",
    "# Examples of statements\n",
    "assignment_statement = x = 5  # Assignment statement\n",
    "if x > 0:  # Conditional statement\n",
    "    print(\"Positive number\")\n",
    "for i in range(5):  # Loop statement\n",
    "    print(i)"
   ]
  },
  {
   "cell_type": "code",
   "execution_count": null,
   "id": "6f5a9b4c-7c69-415f-943b-9e5db86aa4b0",
   "metadata": {},
   "outputs": [],
   "source": []
  }
 ],
 "metadata": {
  "kernelspec": {
   "display_name": "Python 3 (ipykernel)",
   "language": "python",
   "name": "python3"
  },
  "language_info": {
   "codemirror_mode": {
    "name": "ipython",
    "version": 3
   },
   "file_extension": ".py",
   "mimetype": "text/x-python",
   "name": "python",
   "nbconvert_exporter": "python",
   "pygments_lexer": "ipython3",
   "version": "3.10.8"
  }
 },
 "nbformat": 4,
 "nbformat_minor": 5
}
